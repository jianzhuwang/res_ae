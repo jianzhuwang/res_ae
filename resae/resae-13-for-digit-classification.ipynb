{
 "cells": [
  {
   "cell_type": "code",
   "execution_count": 1,
   "metadata": {
    "collapsed": true
   },
   "outputs": [],
   "source": [
    "# Realize ResAE \n",
    "# The decoder part only have the symmetic sturcture as the encoder, but weights and biase are initialized.\n",
    "# Let's have a try."
   ]
  },
  {
   "cell_type": "code",
   "execution_count": 2,
   "metadata": {
    "collapsed": true
   },
   "outputs": [],
   "source": [
    "# Display the result\n",
    "import matplotlib\n",
    "matplotlib.use('Agg')\n",
    "%matplotlib inline\n",
    "import matplotlib.pyplot as plt"
   ]
  },
  {
   "cell_type": "code",
   "execution_count": 3,
   "metadata": {},
   "outputs": [],
   "source": [
    "import utils\n",
    "import Block"
   ]
  },
  {
   "cell_type": "code",
   "execution_count": 4,
   "metadata": {
    "collapsed": true
   },
   "outputs": [],
   "source": [
    "import os\n",
    "import time\n",
    "import numpy as np\n",
    "import tensorflow as tf\n",
    "import tensorflow.contrib.layers as layers"
   ]
  },
  {
   "cell_type": "code",
   "execution_count": 5,
   "metadata": {},
   "outputs": [
    {
     "name": "stdout",
     "output_type": "stream",
     "text": [
      "Extracting MNIST_data/train-images-idx3-ubyte.gz\n",
      "Extracting MNIST_data/train-labels-idx1-ubyte.gz\n",
      "Extracting MNIST_data/t10k-images-idx3-ubyte.gz\n",
      "Extracting MNIST_data/t10k-labels-idx1-ubyte.gz\n"
     ]
    }
   ],
   "source": [
    "# Step1 load MNITST data\n",
    "from tensorflow.examples.tutorials.mnist import input_data\n",
    "mnist = input_data.read_data_sets(\"MNIST_data\", \n",
    "                                  one_hot=True,\n",
    "                                  validation_size=2000)"
   ]
  },
  {
   "cell_type": "code",
   "execution_count": 6,
   "metadata": {
    "collapsed": true
   },
   "outputs": [],
   "source": [
    "x_in = tf.placeholder(tf.float32, shape=[None,28,28,1],name='inputs')\n",
    "x_out = tf.placeholder(tf.float32, shape=[None, 28, 28, 1], name='outputs')\n",
    "code_length = 128\n",
    "code = tf.placeholder(tf.float32, shape=[None,code_length],name='code')\n",
    "\n",
    "is_training = tf.placeholder(tf.bool, name='is_training')"
   ]
  },
  {
   "cell_type": "markdown",
   "metadata": {},
   "source": [
    "## Encoder part"
   ]
  },
  {
   "cell_type": "code",
   "execution_count": 7,
   "metadata": {},
   "outputs": [],
   "source": [
    "# Reisudal blocks\n",
    "encode_flag = True\n",
    "net = x_in\n",
    "blocks_en = [\n",
    "    [(16, 8, 2)],\n",
    "    [(32, 16, 2)],\n",
    "]\n",
    "for i, block in enumerate(blocks_en):\n",
    "    block_params = utils.get_block(block, is_training=is_training)\n",
    "    # build the net\n",
    "    block_obj = Block.Block(\n",
    "        inputs = net,\n",
    "        block_params = block_params,\n",
    "        is_training = is_training,\n",
    "        encode_flag=encode_flag,\n",
    "        scope = 'block'+str(i),\n",
    "        summary_flag = True\n",
    "        )\n",
    "    net = block_obj.get_block()"
   ]
  },
  {
   "cell_type": "code",
   "execution_count": 8,
   "metadata": {
    "collapsed": true
   },
   "outputs": [],
   "source": [
    "# get shape of last block\n",
    "encode_last_block_shape = net.get_shape()"
   ]
  },
  {
   "cell_type": "code",
   "execution_count": 9,
   "metadata": {
    "collapsed": true
   },
   "outputs": [],
   "source": [
    "# flatten layer\n",
    "with tf.name_scope('flatten_en'):\n",
    "    net = layers.flatten(net)\n",
    "    tf.summary.histogram('flatten_en',net)\n",
    "flatten_length = int(net.get_shape()[-1])"
   ]
  },
  {
   "cell_type": "markdown",
   "metadata": {},
   "source": [
    "## Encoder layer"
   ]
  },
  {
   "cell_type": "code",
   "execution_count": 10,
   "metadata": {},
   "outputs": [],
   "source": [
    "with tf.name_scope('encoder_layer'):\n",
    "    net = layers.fully_connected(\n",
    "        inputs = net,\n",
    "        num_outputs=code_length,\n",
    "        activation_fn=tf.nn.relu,\n",
    "        )\n",
    "    tf.summary.histogram('encode_layer',net)\n",
    "    code = net"
   ]
  },
  {
   "cell_type": "markdown",
   "metadata": {},
   "source": [
    "## Decoder block"
   ]
  },
  {
   "cell_type": "code",
   "execution_count": 11,
   "metadata": {},
   "outputs": [
    {
     "data": {
      "text/plain": [
       "Dimension(7)"
      ]
     },
     "execution_count": 11,
     "metadata": {},
     "output_type": "execute_result"
    }
   ],
   "source": [
    "encode_last_block_shape[2]"
   ]
  },
  {
   "cell_type": "code",
   "execution_count": 12,
   "metadata": {},
   "outputs": [],
   "source": [
    "with tf.name_scope('flatten_de'):\n",
    "    net = layers.fully_connected(\n",
    "        inputs = net,\n",
    "        num_outputs=flatten_length,\n",
    "        activation_fn=tf.nn.relu,\n",
    "        )\n",
    "    tf.summary.histogram('flatten_en', net)"
   ]
  },
  {
   "cell_type": "code",
   "execution_count": 13,
   "metadata": {},
   "outputs": [],
   "source": [
    "# flatten to convolve\n",
    "with tf.name_scope('flatten_to_conv'):\n",
    "    net = tf.reshape(\n",
    "        net, \n",
    "        [-1, int(encode_last_block_shape[1]), \n",
    "         int(encode_last_block_shape[2]), int(encode_last_block_shape[3])])"
   ]
  },
  {
   "cell_type": "code",
   "execution_count": 14,
   "metadata": {},
   "outputs": [
    {
     "data": {
      "text/plain": [
       "TensorShape([Dimension(None), Dimension(7), Dimension(7), Dimension(32)])"
      ]
     },
     "execution_count": 14,
     "metadata": {},
     "output_type": "execute_result"
    }
   ],
   "source": [
    "net.get_shape()"
   ]
  },
  {
   "cell_type": "code",
   "execution_count": 15,
   "metadata": {},
   "outputs": [],
   "source": [
    "# Residual blocks\n",
    "blocks_de = [\n",
    "     [(16, 16, 2)],\n",
    "     [(1, 8, 2)],]\n",
    "for i, block in enumerate(blocks_de):\n",
    "    block_params = utils.get_block(block, is_training=is_training)\n",
    "    # build the net\n",
    "    block_obj = Block.Block(\n",
    "        inputs = net,\n",
    "        block_params = block_params,\n",
    "        is_training = is_training,\n",
    "        encode_flag=False,\n",
    "        scope = 'block'+str(i),\n",
    "        summary_flag = True\n",
    "        )\n",
    "    net = block_obj.get_block()\n",
    "x_out = net"
   ]
  },
  {
   "cell_type": "code",
   "execution_count": 16,
   "metadata": {
    "collapsed": true
   },
   "outputs": [],
   "source": [
    "# loss function\n",
    "with tf.name_scope('loss'):\n",
    "    cost = tf.reduce_mean(tf.square(x_out-x_in))\n",
    "    tf.summary.scalar('loss', cost)"
   ]
  },
  {
   "cell_type": "code",
   "execution_count": 17,
   "metadata": {
    "collapsed": true
   },
   "outputs": [],
   "source": [
    "# learning rate\n",
    "with tf.name_scope('learning_rate'):\n",
    "    init_lr = tf.placeholder(tf.float32, name='LR')\n",
    "    global_step = tf.placeholder(tf.float32, name=\"global_step\")\n",
    "    decay_step = tf.placeholder(tf.float32, name=\"decay_step\")\n",
    "    decay_rate = tf.placeholder(tf.float32, name=\"decay_rate\")\n",
    "    learning_rate = tf.train.exponential_decay(\n",
    "        learning_rate = init_lr ,\n",
    "        global_step = global_step,\n",
    "        decay_steps = decay_step,\n",
    "        decay_rate = decay_rate,\n",
    "        staircase=False,\n",
    "        name=None)   "
   ]
  },
  {
   "cell_type": "code",
   "execution_count": 18,
   "metadata": {
    "collapsed": true
   },
   "outputs": [],
   "source": [
    "def feed_dict(train,batchsize=100,drop=0.5, lr_dict=None):\n",
    "    \"\"\"Make a TensorFlow feed_dict: maps data onto Tensor placeholders.\"\"\"\n",
    "    if train:\n",
    "        xs, _ = mnist.train.next_batch(batchsize)\n",
    "        f_dict = {x_in: xs.reshape([-1,28,28,1]), \n",
    "                  is_training: True}\n",
    "        f_dict.update(lr_dict)\n",
    "    else:    \n",
    "        # validation\n",
    "        x_val,_ = mnist.validation.images,mnist.validation.labels\n",
    "        f_dict = {x_in: x_val.reshape([-1,28,28,1]),\n",
    "                  is_training: False}\n",
    "    return f_dict"
   ]
  },
  {
   "cell_type": "code",
   "execution_count": 19,
   "metadata": {
    "collapsed": true
   },
   "outputs": [],
   "source": [
    "# Train step \n",
    "# note: should add update_ops to the train graph\n",
    "update_ops = tf.get_collection(tf.GraphKeys.UPDATE_OPS)\n",
    "with tf.control_dependencies(update_ops):\n",
    "    with tf.name_scope('train'):\n",
    "        train_step = tf.train.AdamOptimizer(learning_rate).minimize(cost) "
   ]
  },
  {
   "cell_type": "code",
   "execution_count": 20,
   "metadata": {
    "collapsed": true
   },
   "outputs": [],
   "source": [
    "# Merge all the summaries and write to logdir\n",
    "logdir = './log'\n",
    "if not os.path.exists(logdir):\n",
    "    os.mkdir(logdir)\n",
    "merged = tf.summary.merge_all()\n",
    "# Initialize the variables\n",
    "sess = tf.InteractiveSession()\n",
    "sess.run(tf.global_variables_initializer())\n",
    "train_writer = tf.summary.FileWriter(logdir + '/train',\n",
    "                                      sess.graph)\n",
    "val_writer = tf.summary.FileWriter(logdir + '/validation',\n",
    "                                   sess.graph)"
   ]
  },
  {
   "cell_type": "code",
   "execution_count": 21,
   "metadata": {},
   "outputs": [
    {
     "name": "stdout",
     "output_type": "stream",
     "text": [
      "[2018-01-27: 23:53:34]: Epochs    Trn_loss    Val_loss\n",
      "[2018-01-27: 23:53:43]: 0    0.0200    0.0058\n",
      "[2018-01-27: 23:55:10]: 10    0.0019    0.0018\n",
      "[2018-01-27: 23:56:36]: 20    0.0015    0.0015\n",
      "[2018-01-27: 23:58:01]: 30    0.0013    0.0014\n",
      "[2018-01-27: 23:59:27]: 40    0.0012    0.0013\n",
      "[2018-01-28: 00:00:53]: 50    0.0011    0.0012\n",
      "[2018-01-28: 00:02:20]: 60    0.0011    0.0012\n",
      "[2018-01-28: 00:03:46]: 70    0.0011    0.0011\n",
      "[2018-01-28: 00:05:26]: 80    0.0010    0.0011\n",
      "[2018-01-28: 00:07:16]: 90    0.0010    0.0011\n"
     ]
    }
   ],
   "source": [
    "# Training the model by repeatedly running train_step\n",
    "import time \n",
    "epochs = 100\n",
    "batchsize= 100\n",
    "num_batches = mnist.train.images.shape[0] // batchsize\n",
    "# num_batches = 200\n",
    "\n",
    "lr_init = 0.001\n",
    "d_rate = 0.9\n",
    "\n",
    "x_epoch = np.arange(0,epochs,1)\n",
    "y_loss_trn = np.zeros(x_epoch.shape)\n",
    "y_loss_val = np.zeros(x_epoch.shape)\n",
    "\n",
    "# Init all variables\n",
    "timestamp = time.strftime('%Y-%m-%d: %H:%M:%S', time.localtime(time.time()))\n",
    "print(\"[%s]: Epochs    Trn_loss    Val_loss\" % (timestamp))\n",
    "for i in range(epochs):\n",
    "    lr_dict = {init_lr: lr_init, global_step:i,\n",
    "               decay_step: i, decay_step: batchsize,\n",
    "               decay_rate: d_rate}\n",
    "    loss_trn_all = 0.0\n",
    "    for b in range(num_batches):\n",
    "        train_dict = feed_dict(True,lr_dict=lr_dict)\n",
    "        # train\n",
    "        summary_trn, _, loss_trn = sess.run(\n",
    "            [merged, train_step, cost], \n",
    "            feed_dict=train_dict)\n",
    "        loss_trn_all += loss_trn\n",
    "    \n",
    "    y_loss_trn[i] = loss_trn_all / num_batches\n",
    "    train_writer.add_summary(summary_trn, i)\n",
    "    # validation\n",
    "    val_dict = feed_dict(False)\n",
    "    summary_val, y_loss_val[i] = sess.run(\n",
    "        [merged, cost],feed_dict=val_dict)\n",
    "    val_writer.add_summary(summary_val, i)\n",
    "    if i % 10 == 0:\n",
    "        timestamp = time.strftime('%Y-%m-%d: %H:%M:%S', time.localtime(time.time()))\n",
    "        print('[%s]: %d    %.4f    %.4f' % (timestamp, i, \n",
    "                                            y_loss_trn[i], y_loss_val[i]))"
   ]
  },
  {
   "cell_type": "code",
   "execution_count": 22,
   "metadata": {},
   "outputs": [
    {
     "data": {
      "text/plain": [
       "<matplotlib.text.Text at 0x7f759befb978>"
      ]
     },
     "execution_count": 22,
     "metadata": {},
     "output_type": "execute_result"
    },
    {
     "data": {
      "image/png": "[encoded data removed]",
      "text/plain": [
       "<matplotlib.figure.Figure at 0x7f759e00a710>"
      ]
     },
     "metadata": {},
     "output_type": "display_data"
    }
   ],
   "source": [
    "plt.rcParams[\"figure.figsize\"] = [8.0,6.0]\n",
    "\n",
    "plt.plot(x_epoch, y_loss_trn)\n",
    "plt.plot(x_epoch, y_loss_val)\n",
    "plt.legend(['Training loss', 'Validation loss'])\n",
    "plt.xlabel('Epochs')\n",
    "plt.ylabel('Loss')"
   ]
  },
  {
   "cell_type": "code",
   "execution_count": 23,
   "metadata": {
    "collapsed": true
   },
   "outputs": [],
   "source": [
    "import pickle\n",
    "data_dict = {\n",
    "    \"x_epoch\": x_epoch,\n",
    "    \"y_loss_trn\": y_loss_trn,\n",
    "    \"y_loss_val\": y_loss_val,\n",
    "}\n",
    "with open(\"./result_resae13.pkl\", 'wb') as fp:\n",
    "    pickle.dump(data_dict, fp)"
   ]
  },
  {
   "cell_type": "code",
   "execution_count": 24,
   "metadata": {
    "collapsed": true
   },
   "outputs": [],
   "source": [
    "# test a image\n",
    "img, _ = mnist.validation.next_batch(10)\n",
    "img = img.reshape(-1,28,28,1)"
   ]
  },
  {
   "cell_type": "code",
   "execution_count": 25,
   "metadata": {},
   "outputs": [],
   "source": [
    "img_est = sess.run(x_out, feed_dict={x_in: img, is_training: False})"
   ]
  },
  {
   "cell_type": "code",
   "execution_count": 26,
   "metadata": {},
   "outputs": [
    {
     "name": "stderr",
     "output_type": "stream",
     "text": [
      "/home/mzx/.local/lib/python3.5/site-packages/matplotlib/figure.py:403: UserWarning: matplotlib is currently using a non-GUI backend, so cannot show the figure\n",
      "  \"matplotlib is currently using a non-GUI backend, \"\n"
     ]
    },
    {
     "data": {
      "image/png": "[encoded data removed]",
      "text/plain": [
       "<matplotlib.figure.Figure at 0x7f759bfb2940>"
      ]
     },
     "metadata": {},
     "output_type": "display_data"
    }
   ],
   "source": [
    "def gen_norm(img):\n",
    "    return (img-img.min())/(img.max() - img.min())\n",
    "\n",
    "n_examples = 10\n",
    "fig, axs = plt.subplots(3, n_examples, figsize=(10, 2))\n",
    "for example_i in range(n_examples):\n",
    "    # raw\n",
    "    axs[0][example_i].imshow(np.reshape(img[example_i, :], (28, 28)), cmap='gray')\n",
    "    axs[0][example_i].axis('off')\n",
    "    # learned\n",
    "    axs[1][example_i].imshow(np.reshape(img_est[example_i, :], (28, 28)), cmap='gray')\n",
    "    axs[1][example_i].axis('off')\n",
    "    # residual\n",
    "    norm_raw = gen_norm(np.reshape(img[example_i, :], (28, 28)))\n",
    "    norm_est = gen_norm(np.reshape(img_est[example_i, :],(28, 28)))\n",
    "    axs[2][example_i].imshow(norm_raw - norm_est, cmap='gray')\n",
    "    axs[2][example_i].axis('off')\n",
    "\n",
    "fig.show()\n",
    "plt.draw()"
   ]
  }
 ],
 "metadata": {
  "kernelspec": {
   "display_name": "Python 3",
   "language": "python",
   "name": "python3"
  },
  "language_info": {
   "codemirror_mode": {
    "name": "ipython",
    "version": 3
   },
   "file_extension": ".py",
   "mimetype": "text/x-python",
   "name": "python",
   "nbconvert_exporter": "python",
   "pygments_lexer": "ipython3",
   "version": "3.5.3"
  }
 },
 "nbformat": 4,
 "nbformat_minor": 2
}
